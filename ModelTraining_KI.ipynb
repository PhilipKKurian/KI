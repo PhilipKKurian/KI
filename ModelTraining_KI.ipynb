{
 "cells": [
  {
   "cell_type": "markdown",
   "id": "292ea0ea-5a87-4cf2-9563-48bbca127921",
   "metadata": {},
   "source": [
    "# Model Training for Truck detection.\n",
    "\n",
    "Data set from Kaggle and additional images downloaded from internet. Dataset includes a set of images of different vehicles which are classified under the labels Truck, Car, Motorbike, Bicycle, Bus, Tractor, No Vehicle.\n",
    "\n",
    " ImageDataGenerator: Used for rescaling images and creating training/validation splits.\n",
    " Model Architecture: A simple CNN with three convolutional layers and a dense output layer corresponding to the number of classes.\n",
    " Model Compilation: Uses Adam optimizer and categorical crossentropy since it's a multi-class classification problem.\n",
    " Training and Validation: The model is trained with 80% of the data and validated with the remaining 20%.\n",
    " Saving the Model: The trained model is saved to the specified path."
   ]
  },
  {
   "cell_type": "code",
   "execution_count": 1,
   "id": "299e250a-6d91-4077-8b57-6bb68140c8b4",
   "metadata": {},
   "outputs": [],
   "source": [
    "import os\n",
    "import tensorflow as tf\n",
    "from tensorflow.keras.preprocessing.image import ImageDataGenerator\n",
    "from tensorflow.keras.models import Sequential\n",
    "from tensorflow.keras.layers import Conv2D, MaxPooling2D, Flatten, Dense\n",
    "from tensorflow.keras.optimizers import Adam"
   ]
  },
  {
   "cell_type": "code",
   "execution_count": 2,
   "id": "f49d544a-8a4e-4e50-976f-487b2ce4d7b6",
   "metadata": {},
   "outputs": [],
   "source": [
    "# Define paths\n",
    "data_path = r'D:\\trainedmodel\\data'\n",
    "model_save_path = r'D:\\trainedmodel\\vehicle_classifier.h5'"
   ]
  },
  {
   "cell_type": "code",
   "execution_count": 3,
   "id": "2acdb6ae-4faf-48bb-ae03-a59f7f386041",
   "metadata": {},
   "outputs": [
    {
     "name": "stdout",
     "output_type": "stream",
     "text": [
      "Found 10917 images belonging to 7 classes.\n",
      "Found 2726 images belonging to 7 classes.\n"
     ]
    }
   ],
   "source": [
    "# Data augmentation and loading\n",
    "datagen = ImageDataGenerator(\n",
    "    rescale=1.0/255,\n",
    "    validation_split=0.2\n",
    ")\n",
    "\n",
    "train_generator = datagen.flow_from_directory(\n",
    "    data_path,\n",
    "    target_size=(150, 150),\n",
    "    batch_size=32,\n",
    "    class_mode='categorical',\n",
    "    subset='training'\n",
    ")\n",
    "\n",
    "validation_generator = datagen.flow_from_directory(\n",
    "    data_path,\n",
    "    target_size=(150, 150),\n",
    "    batch_size=32,\n",
    "    class_mode='categorical',\n",
    "    subset='validation'\n",
    ")"
   ]
  },
  {
   "cell_type": "code",
   "execution_count": 4,
   "id": "7be6ed9f-efc2-47c4-b816-2b8a9a5c5c65",
   "metadata": {},
   "outputs": [
    {
     "name": "stderr",
     "output_type": "stream",
     "text": [
      "C:\\Users\\Kurian\\anaconda3\\envs\\ml_kurs\\Lib\\site-packages\\keras\\src\\layers\\convolutional\\base_conv.py:107: UserWarning: Do not pass an `input_shape`/`input_dim` argument to a layer. When using Sequential models, prefer using an `Input(shape)` object as the first layer in the model instead.\n",
      "  super().__init__(activity_regularizer=activity_regularizer, **kwargs)\n"
     ]
    }
   ],
   "source": [
    "# Model creation\n",
    "model = Sequential([\n",
    "    Conv2D(32, (3, 3), activation='relu', input_shape=(150, 150, 3)),\n",
    "    MaxPooling2D((2, 2)),\n",
    "    Conv2D(64, (3, 3), activation='relu'),\n",
    "    MaxPooling2D((2, 2)),\n",
    "    Conv2D(128, (3, 3), activation='relu'),\n",
    "    MaxPooling2D((2, 2)),\n",
    "    Flatten(),\n",
    "    Dense(128, activation='relu'),\n",
    "    Dense(train_generator.num_classes, activation='softmax')\n",
    "])"
   ]
  },
  {
   "cell_type": "code",
   "execution_count": 5,
   "id": "07e4c262-f774-4e25-a5e8-64a2cfd531fc",
   "metadata": {},
   "outputs": [],
   "source": [
    "# Compile the model\n",
    "model.compile(optimizer=Adam(),\n",
    "              loss='categorical_crossentropy',\n",
    "              metrics=['accuracy'])\n"
   ]
  },
  {
   "cell_type": "code",
   "execution_count": 6,
   "id": "7a19fd08-f07b-4c19-afb1-19d5ba5cc071",
   "metadata": {},
   "outputs": [
    {
     "name": "stdout",
     "output_type": "stream",
     "text": [
      "Epoch 1/10\n"
     ]
    },
    {
     "name": "stderr",
     "output_type": "stream",
     "text": [
      "C:\\Users\\Kurian\\anaconda3\\envs\\ml_kurs\\Lib\\site-packages\\keras\\src\\trainers\\data_adapters\\py_dataset_adapter.py:121: UserWarning: Your `PyDataset` class should call `super().__init__(**kwargs)` in its constructor. `**kwargs` can include `workers`, `use_multiprocessing`, `max_queue_size`. Do not pass these arguments to `fit()`, as they will be ignored.\n",
      "  self._warn_if_super_not_called()\n"
     ]
    },
    {
     "name": "stdout",
     "output_type": "stream",
     "text": [
      "\u001b[1m342/342\u001b[0m \u001b[32m━━━━━━━━━━━━━━━━━━━━\u001b[0m\u001b[37m\u001b[0m \u001b[1m185s\u001b[0m 530ms/step - accuracy: 0.9067 - loss: 0.3026 - val_accuracy: 0.9809 - val_loss: 0.0609\n",
      "Epoch 2/10\n",
      "\u001b[1m342/342\u001b[0m \u001b[32m━━━━━━━━━━━━━━━━━━━━\u001b[0m\u001b[37m\u001b[0m \u001b[1m125s\u001b[0m 365ms/step - accuracy: 0.9839 - loss: 0.0471 - val_accuracy: 0.9897 - val_loss: 0.0312\n",
      "Epoch 3/10\n",
      "\u001b[1m342/342\u001b[0m \u001b[32m━━━━━━━━━━━━━━━━━━━━\u001b[0m\u001b[37m\u001b[0m \u001b[1m126s\u001b[0m 368ms/step - accuracy: 0.9962 - loss: 0.0126 - val_accuracy: 0.9916 - val_loss: 0.0265\n",
      "Epoch 4/10\n",
      "\u001b[1m342/342\u001b[0m \u001b[32m━━━━━━━━━━━━━━━━━━━━\u001b[0m\u001b[37m\u001b[0m \u001b[1m127s\u001b[0m 371ms/step - accuracy: 0.9968 - loss: 0.0104 - val_accuracy: 0.9905 - val_loss: 0.0295\n",
      "Epoch 5/10\n",
      "\u001b[1m342/342\u001b[0m \u001b[32m━━━━━━━━━━━━━━━━━━━━\u001b[0m\u001b[37m\u001b[0m \u001b[1m131s\u001b[0m 383ms/step - accuracy: 0.9960 - loss: 0.0116 - val_accuracy: 0.9908 - val_loss: 0.0270\n",
      "Epoch 6/10\n",
      "\u001b[1m342/342\u001b[0m \u001b[32m━━━━━━━━━━━━━━━━━━━━\u001b[0m\u001b[37m\u001b[0m \u001b[1m131s\u001b[0m 382ms/step - accuracy: 0.9992 - loss: 0.0031 - val_accuracy: 0.9908 - val_loss: 0.0339\n",
      "Epoch 7/10\n",
      "\u001b[1m342/342\u001b[0m \u001b[32m━━━━━━━━━━━━━━━━━━━━\u001b[0m\u001b[37m\u001b[0m \u001b[1m137s\u001b[0m 400ms/step - accuracy: 1.0000 - loss: 4.2231e-04 - val_accuracy: 0.9960 - val_loss: 0.0212\n",
      "Epoch 8/10\n",
      "\u001b[1m342/342\u001b[0m \u001b[32m━━━━━━━━━━━━━━━━━━━━\u001b[0m\u001b[37m\u001b[0m \u001b[1m129s\u001b[0m 377ms/step - accuracy: 1.0000 - loss: 3.1793e-05 - val_accuracy: 0.9963 - val_loss: 0.0218\n",
      "Epoch 9/10\n",
      "\u001b[1m342/342\u001b[0m \u001b[32m━━━━━━━━━━━━━━━━━━━━\u001b[0m\u001b[37m\u001b[0m \u001b[1m128s\u001b[0m 374ms/step - accuracy: 1.0000 - loss: 1.5024e-05 - val_accuracy: 0.9963 - val_loss: 0.0228\n",
      "Epoch 10/10\n",
      "\u001b[1m342/342\u001b[0m \u001b[32m━━━━━━━━━━━━━━━━━━━━\u001b[0m\u001b[37m\u001b[0m \u001b[1m125s\u001b[0m 364ms/step - accuracy: 1.0000 - loss: 1.2635e-05 - val_accuracy: 0.9960 - val_loss: 0.0232\n"
     ]
    },
    {
     "data": {
      "text/plain": [
       "<keras.src.callbacks.history.History at 0x25720fe0050>"
      ]
     },
     "execution_count": 6,
     "metadata": {},
     "output_type": "execute_result"
    }
   ],
   "source": [
    "# Train the model\n",
    "model.fit(\n",
    "    train_generator,\n",
    "    epochs=10,\n",
    "    validation_data=validation_generator\n",
    ")\n"
   ]
  },
  {
   "cell_type": "code",
   "execution_count": 7,
   "id": "d3b3fc76-a1a9-46fe-ba80-e7ff7adc4ec3",
   "metadata": {},
   "outputs": [
    {
     "name": "stderr",
     "output_type": "stream",
     "text": [
      "WARNING:absl:You are saving your model as an HDF5 file via `model.save()` or `keras.saving.save_model(model)`. This file format is considered legacy. We recommend using instead the native Keras format, e.g. `model.save('my_model.keras')` or `keras.saving.save_model(model, 'my_model.keras')`. \n"
     ]
    },
    {
     "name": "stdout",
     "output_type": "stream",
     "text": [
      "Model saved at D:\\trainedmodel\\vehicle_classifier.h5\n"
     ]
    }
   ],
   "source": [
    "# Save the model\n",
    "model.save(model_save_path)\n",
    "print(f\"Model saved at {model_save_path}\")"
   ]
  },
  {
   "cell_type": "code",
   "execution_count": null,
   "id": "f9fbd836-e668-41a8-a857-83815adc0165",
   "metadata": {},
   "outputs": [],
   "source": []
  }
 ],
 "metadata": {
  "kernelspec": {
   "display_name": "ml_kurs",
   "language": "python",
   "name": "ml_kurs"
  },
  "language_info": {
   "codemirror_mode": {
    "name": "ipython",
    "version": 3
   },
   "file_extension": ".py",
   "mimetype": "text/x-python",
   "name": "python",
   "nbconvert_exporter": "python",
   "pygments_lexer": "ipython3",
   "version": "3.12.2"
  }
 },
 "nbformat": 4,
 "nbformat_minor": 5
}
